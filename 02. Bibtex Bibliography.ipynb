{
 "cells": [
  {
   "cell_type": "markdown",
   "id": "de782895-82db-447a-b1ea-70e6ea5f8a59",
   "metadata": {},
   "source": [
    "Dindia, K., & Timmerman, L. (2003). Accomplishing romantic relationships. Handbook of communication and social interaction skills, 685-721."
   ]
  },
  {
   "cell_type": "code",
   "execution_count": null,
   "id": "b5ae8a24-252d-4f95-89f7-5f7ed6aee135",
   "metadata": {},
   "outputs": [],
   "source": [
    "@article{dindia2003accomplishing,\n",
    "  title={Accomplishing romantic relationships},\n",
    "  author={Dindia, Kathryn and Timmerman, Lindsay},\n",
    "  journal={Handbook of communication and social interaction skills},\n",
    "  pages={685--721},\n",
    "  year={2003}\n",
    "}"
   ]
  },
  {
   "cell_type": "markdown",
   "id": "c3185cb3-94b6-446f-a5f7-c980478a61ff",
   "metadata": {},
   "source": [
    "Meeks, B. S., Hendrick, S. S., & Hendrick, C. (1998). Communication, love and \n",
    "relationship satisfaction. Journal of Social and Personal Relationships, 15(6), 755-773."
   ]
  },
  {
   "cell_type": "code",
   "execution_count": null,
   "id": "93089b28-db4b-4746-a5b1-7a9acb11ba18",
   "metadata": {},
   "outputs": [],
   "source": [
    "@article{meeks1998communication,\n",
    "  title={Communication, love and relationship satisfaction},\n",
    "  author={Meeks, Brenda S and Hendrick, Susan S and Hendrick, Clyde},\n",
    "  journal={Journal of Social and Personal Relationships},\n",
    "  volume={15},\n",
    "  number={6},\n",
    "  pages={755--773},\n",
    "  year={1998},\n",
    "  publisher={Sage Publications Sage CA: Thousand Oaks, CA}\n",
    "}"
   ]
  },
  {
   "cell_type": "markdown",
   "id": "912efe8b-8726-4bcc-b718-12ecad206aae",
   "metadata": {},
   "source": [
    "Reese‐Weber, M. (2015). Intimacy, communication, and aggressive behaviors: Variations by \n",
    "phases of romantic relationship development. Personal Relationships, 22(2), 204-215. "
   ]
  },
  {
   "cell_type": "code",
   "execution_count": null,
   "id": "dc79c666-5eab-49b3-83c4-7f62ca7b9bb3",
   "metadata": {},
   "outputs": [],
   "source": [
    "@article{reese2015intimacy,\n",
    "  title={Intimacy, communication, and aggressive behaviors: Variations by phases of romantic relationship development},\n",
    "  author={REESE-WEBER, MARLA},\n",
    "  journal={Personal Relationships},\n",
    "  volume={22},\n",
    "  number={2},\n",
    "  pages={204--215},\n",
    "  year={2015},\n",
    "  publisher={Wiley Online Library}\n",
    "}"
   ]
  },
  {
   "cell_type": "markdown",
   "id": "92e7d8ec-5f4e-41dd-8211-67fbc211bc5e",
   "metadata": {},
   "source": [
    "Umphrey, L. R., & Sherblom, J. C. (2001). The role of relational interdependence, \n",
    "relationship thinking, and relational communication in three stages of romantic \n",
    "relationships. Communication Research Reports, 18(4), 324-333. "
   ]
  },
  {
   "cell_type": "code",
   "execution_count": null,
   "id": "126b43bb-b50d-4ec2-875e-6e4f72e5f92d",
   "metadata": {},
   "outputs": [],
   "source": [
    "@article{umphrey2001role,\n",
    "  title={The role of relational interdependence, relationship thinking, and relational communication in three stages of romantic relationships},\n",
    "  author={Umphrey, Laura R and Sherblom, John C},\n",
    "  journal={Communication Research Reports},\n",
    "  volume={18},\n",
    "  number={4},\n",
    "  pages={324--333},\n",
    "  year={2001},\n",
    "  publisher={Taylor \\& Francis}\n",
    "}"
   ]
  },
  {
   "cell_type": "markdown",
   "id": "e954e069-4ee0-4334-af81-7baea18d7f6e",
   "metadata": {},
   "source": [
    "Westcott, M. L. (1987). The breakup of romantic relationships: A study in the social \n",
    "psychology of emotions (Doctoral dissertation). University of Maryland, College Park, MD. "
   ]
  },
  {
   "cell_type": "code",
   "execution_count": null,
   "id": "739b60ff-d1eb-455b-93a8-496186b8c1a3",
   "metadata": {},
   "outputs": [],
   "source": [
    "@book{westcott1987breakup,\n",
    "  title={The breakup of romantic relationships: A study in the social psychology of emotions},\n",
    "  author={Westcott, Mary Lee},\n",
    "  year={1987},\n",
    "  publisher={University of Maryland, College Park}\n",
    "}"
   ]
  },
  {
   "cell_type": "markdown",
   "id": "0d1f6a8c-8640-4854-aab1-03846396d26c",
   "metadata": {},
   "source": [
    "Wood, J. T. (1982). Communication and relational culture: Bases for the study of human \n",
    "relationships. Communication Quarterly, 30(2), 75-84. "
   ]
  },
  {
   "cell_type": "code",
   "execution_count": null,
   "id": "38fbddf8-df1d-49b6-bc27-6116ed5d283c",
   "metadata": {},
   "outputs": [],
   "source": [
    "@article{wood1982communication,\n",
    "  title={Communication and relational culture: Bases for the study of human relationships},\n",
    "  author={Wood, Julia T},\n",
    "  journal={Communication Quarterly},\n",
    "  volume={30},\n",
    "  number={2},\n",
    "  pages={75--84},\n",
    "  year={1982},\n",
    "  publisher={Taylor \\& Francis}\n",
    "}"
   ]
  }
 ],
 "metadata": {
  "citation-manager": {
   "items": {}
  },
  "kernelspec": {
   "display_name": "Python 3.11 (COMM4190)",
   "language": "python",
   "name": "comm4190"
  },
  "language_info": {
   "codemirror_mode": {
    "name": "ipython",
    "version": 3
   },
   "file_extension": ".py",
   "mimetype": "text/x-python",
   "name": "python",
   "nbconvert_exporter": "python",
   "pygments_lexer": "ipython3",
   "version": "3.11.7"
  }
 },
 "nbformat": 4,
 "nbformat_minor": 5
}
